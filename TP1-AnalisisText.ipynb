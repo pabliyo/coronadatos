{
 "cells": [
  {
   "cell_type": "code",
   "execution_count": 1,
   "metadata": {},
   "outputs": [
    {
     "name": "stderr",
     "output_type": "stream",
     "text": [
      "[nltk_data] Downloading package stopwords to /home/pablo/nltk_data...\n",
      "[nltk_data]   Package stopwords is already up-to-date!\n"
     ]
    }
   ],
   "source": [
    "import pandas as pd\n",
    "import numpy as np\n",
    "import seaborn as sns\n",
    "import matplotlib.pyplot as plt\n",
    "import matplotlib.patches as mpatches\n",
    "import nltk\n",
    "import string\n",
    "\n",
    "from collections import Counter\n",
    "from collections import defaultdict\n",
    "from nltk.corpus import stopwords\n",
    "nltk.download('stopwords')\n",
    "stopwords = stopwords.words('english')\n",
    "\n"
   ]
  },
  {
   "cell_type": "code",
   "execution_count": 2,
   "metadata": {},
   "outputs": [
    {
     "name": "stdout",
     "output_type": "stream",
     "text": [
      "<class 'pandas.core.frame.DataFrame'>\n",
      "RangeIndex: 7613 entries, 0 to 7612\n",
      "Data columns (total 5 columns):\n",
      " #   Column    Non-Null Count  Dtype \n",
      "---  ------    --------------  ----- \n",
      " 0   id        7613 non-null   int64 \n",
      " 1   keyword   7552 non-null   object\n",
      " 2   location  5080 non-null   object\n",
      " 3   text      7613 non-null   object\n",
      " 4   target    7613 non-null   int64 \n",
      "dtypes: int64(2), object(3)\n",
      "memory usage: 297.5+ KB\n"
     ]
    }
   ],
   "source": [
    "df = pd.read_csv(\"dataset/train.csv\")\n",
    "df.info()"
   ]
  },
  {
   "cell_type": "code",
   "execution_count": 3,
   "metadata": {},
   "outputs": [
    {
     "data": {
      "text/html": [
       "<div>\n",
       "<style scoped>\n",
       "    .dataframe tbody tr th:only-of-type {\n",
       "        vertical-align: middle;\n",
       "    }\n",
       "\n",
       "    .dataframe tbody tr th {\n",
       "        vertical-align: top;\n",
       "    }\n",
       "\n",
       "    .dataframe thead th {\n",
       "        text-align: right;\n",
       "    }\n",
       "</style>\n",
       "<table border=\"1\" class=\"dataframe\">\n",
       "  <thead>\n",
       "    <tr style=\"text-align: right;\">\n",
       "      <th></th>\n",
       "      <th>id</th>\n",
       "      <th>keyword</th>\n",
       "      <th>location</th>\n",
       "      <th>text</th>\n",
       "      <th>target</th>\n",
       "      <th>palabras</th>\n",
       "    </tr>\n",
       "  </thead>\n",
       "  <tbody>\n",
       "    <tr>\n",
       "      <th>0</th>\n",
       "      <td>1</td>\n",
       "      <td>NaN</td>\n",
       "      <td>NaN</td>\n",
       "      <td>Our Deeds are the Reason of this #earthquake M...</td>\n",
       "      <td>1</td>\n",
       "      <td>13</td>\n",
       "    </tr>\n",
       "    <tr>\n",
       "      <th>1</th>\n",
       "      <td>4</td>\n",
       "      <td>NaN</td>\n",
       "      <td>NaN</td>\n",
       "      <td>Forest fire near La Ronge Sask. Canada</td>\n",
       "      <td>1</td>\n",
       "      <td>7</td>\n",
       "    </tr>\n",
       "    <tr>\n",
       "      <th>2</th>\n",
       "      <td>5</td>\n",
       "      <td>NaN</td>\n",
       "      <td>NaN</td>\n",
       "      <td>All residents asked to 'shelter in place' are ...</td>\n",
       "      <td>1</td>\n",
       "      <td>22</td>\n",
       "    </tr>\n",
       "    <tr>\n",
       "      <th>3</th>\n",
       "      <td>6</td>\n",
       "      <td>NaN</td>\n",
       "      <td>NaN</td>\n",
       "      <td>13,000 people receive #wildfires evacuation or...</td>\n",
       "      <td>1</td>\n",
       "      <td>8</td>\n",
       "    </tr>\n",
       "    <tr>\n",
       "      <th>4</th>\n",
       "      <td>7</td>\n",
       "      <td>NaN</td>\n",
       "      <td>NaN</td>\n",
       "      <td>Just got sent this photo from Ruby #Alaska as ...</td>\n",
       "      <td>1</td>\n",
       "      <td>16</td>\n",
       "    </tr>\n",
       "    <tr>\n",
       "      <th>...</th>\n",
       "      <td>...</td>\n",
       "      <td>...</td>\n",
       "      <td>...</td>\n",
       "      <td>...</td>\n",
       "      <td>...</td>\n",
       "      <td>...</td>\n",
       "    </tr>\n",
       "    <tr>\n",
       "      <th>7608</th>\n",
       "      <td>10869</td>\n",
       "      <td>NaN</td>\n",
       "      <td>NaN</td>\n",
       "      <td>Two giant cranes holding a bridge collapse int...</td>\n",
       "      <td>1</td>\n",
       "      <td>11</td>\n",
       "    </tr>\n",
       "    <tr>\n",
       "      <th>7609</th>\n",
       "      <td>10870</td>\n",
       "      <td>NaN</td>\n",
       "      <td>NaN</td>\n",
       "      <td>@aria_ahrary @TheTawniest The out of control w...</td>\n",
       "      <td>1</td>\n",
       "      <td>20</td>\n",
       "    </tr>\n",
       "    <tr>\n",
       "      <th>7610</th>\n",
       "      <td>10871</td>\n",
       "      <td>NaN</td>\n",
       "      <td>NaN</td>\n",
       "      <td>M1.94 [01:04 UTC]?5km S of Volcano Hawaii. htt...</td>\n",
       "      <td>1</td>\n",
       "      <td>8</td>\n",
       "    </tr>\n",
       "    <tr>\n",
       "      <th>7611</th>\n",
       "      <td>10872</td>\n",
       "      <td>NaN</td>\n",
       "      <td>NaN</td>\n",
       "      <td>Police investigating after an e-bike collided ...</td>\n",
       "      <td>1</td>\n",
       "      <td>19</td>\n",
       "    </tr>\n",
       "    <tr>\n",
       "      <th>7612</th>\n",
       "      <td>10873</td>\n",
       "      <td>NaN</td>\n",
       "      <td>NaN</td>\n",
       "      <td>The Latest: More Homes Razed by Northern Calif...</td>\n",
       "      <td>1</td>\n",
       "      <td>13</td>\n",
       "    </tr>\n",
       "  </tbody>\n",
       "</table>\n",
       "<p>7613 rows × 6 columns</p>\n",
       "</div>"
      ],
      "text/plain": [
       "         id keyword location  \\\n",
       "0         1     NaN      NaN   \n",
       "1         4     NaN      NaN   \n",
       "2         5     NaN      NaN   \n",
       "3         6     NaN      NaN   \n",
       "4         7     NaN      NaN   \n",
       "...     ...     ...      ...   \n",
       "7608  10869     NaN      NaN   \n",
       "7609  10870     NaN      NaN   \n",
       "7610  10871     NaN      NaN   \n",
       "7611  10872     NaN      NaN   \n",
       "7612  10873     NaN      NaN   \n",
       "\n",
       "                                                   text  target  palabras  \n",
       "0     Our Deeds are the Reason of this #earthquake M...       1        13  \n",
       "1                Forest fire near La Ronge Sask. Canada       1         7  \n",
       "2     All residents asked to 'shelter in place' are ...       1        22  \n",
       "3     13,000 people receive #wildfires evacuation or...       1         8  \n",
       "4     Just got sent this photo from Ruby #Alaska as ...       1        16  \n",
       "...                                                 ...     ...       ...  \n",
       "7608  Two giant cranes holding a bridge collapse int...       1        11  \n",
       "7609  @aria_ahrary @TheTawniest The out of control w...       1        20  \n",
       "7610  M1.94 [01:04 UTC]?5km S of Volcano Hawaii. htt...       1         8  \n",
       "7611  Police investigating after an e-bike collided ...       1        19  \n",
       "7612  The Latest: More Homes Razed by Northern Calif...       1        13  \n",
       "\n",
       "[7613 rows x 6 columns]"
      ]
     },
     "execution_count": 3,
     "metadata": {},
     "output_type": "execute_result"
    }
   ],
   "source": [
    "#Convierto el texto de a String\n",
    "\n",
    "df['text'] = df['text'].astype(\"string\")\n",
    "\n",
    "#Divido en palabras en una nueva columna y asigno la cantidad de palabras por cada tweet\n",
    "df['palabras'] = df['text'].str.split().str.len()\n",
    "df"
   ]
  },
  {
   "cell_type": "code",
   "execution_count": 4,
   "metadata": {},
   "outputs": [
    {
     "data": {
      "text/plain": [
       "<matplotlib.axes._subplots.AxesSubplot at 0x7f0945768470>"
      ]
     },
     "execution_count": 4,
     "metadata": {},
     "output_type": "execute_result"
    },
    {
     "data": {
      "image/png": "[encoded data removed]",
      "text/plain": [
       "<Figure size 432x288 with 1 Axes>"
      ]
     },
     "metadata": {
      "needs_background": "light"
     },
     "output_type": "display_data"
    }
   ],
   "source": [
    "#Cantidad de filas de tweets verdaderos y falsos.\n",
    "df['target'].value_counts().plot.bar(color=(['red','blue']))"
   ]
  },
  {
   "cell_type": "code",
   "execution_count": 5,
   "metadata": {},
   "outputs": [
    {
     "data": {
      "image/png": "[encoded data removed]",
      "text/plain": [
       "<Figure size 720x360 with 2 Axes>"
      ]
     },
     "metadata": {
      "needs_background": "light"
     },
     "output_type": "display_data"
    }
   ],
   "source": [
    "#Analizo distribucion de la cantidad de caracteres para ambos grupos\n",
    "dfreal = df[df['target']==1]\n",
    "dffalso = df[df['target']==0]\n",
    "\n",
    "fig,(ax1,ax2)=plt.subplots(1,2,figsize=(10,5))\n",
    "dfreal_graph=df[df['target']==1]['text'].str.len()\n",
    "ax1.hist(dfreal_graph,range=(0,160),color='blue')\n",
    "ax1.set_title('Real tweets')\n",
    "dffalso_graph=df[df['target']==0]['text'].str.len()\n",
    "ax2.hist(dffalso_graph,color='red')\n",
    "ax2.set_title('Falso tweets')\n",
    "fig.suptitle('cantidad de caracteres')\n",
    "plt.show()"
   ]
  },
  {
   "cell_type": "code",
   "execution_count": 6,
   "metadata": {},
   "outputs": [
    {
     "data": {
      "text/plain": [
       "count    3271.000000\n",
       "mean      108.113421\n",
       "std        29.309854\n",
       "min        14.000000\n",
       "25%        88.000000\n",
       "50%       115.000000\n",
       "75%       136.000000\n",
       "max       151.000000\n",
       "Name: text, dtype: float64"
      ]
     },
     "metadata": {},
     "output_type": "display_data"
    },
    {
     "data": {
      "text/plain": [
       "count    4342.000000\n",
       "mean       95.706817\n",
       "std        35.885924\n",
       "min         7.000000\n",
       "25%        68.000000\n",
       "50%       101.000000\n",
       "75%       130.000000\n",
       "max       157.000000\n",
       "Name: text, dtype: float64"
      ]
     },
     "execution_count": 6,
     "metadata": {},
     "output_type": "execute_result"
    }
   ],
   "source": [
    "display(dfreal.text.str.len().describe())\n",
    "dffalso.text.str.len().describe()"
   ]
  },
  {
   "cell_type": "markdown",
   "metadata": {},
   "source": []
  },
  {
   "cell_type": "code",
   "execution_count": 7,
   "metadata": {},
   "outputs": [
    {
     "data": {
      "image/png": "[encoded data removed]",
      "text/plain": [
       "<Figure size 720x360 with 2 Axes>"
      ]
     },
     "metadata": {
      "needs_background": "light"
     },
     "output_type": "display_data"
    }
   ],
   "source": [
    "\n",
    "fig,(ax1,ax2)=plt.subplots(1,2,figsize=(10,5))\n",
    "dfreal_graph2=df[df['target']==1]['palabras']\n",
    "ax1.hist(dfreal_graph2,color='blue')\n",
    "ax1.set_title('Real tweets')\n",
    "dffalso_graph2=df[df['target']==0]['palabras']\n",
    "ax2.hist(dffalso_graph2,color='red')\n",
    "ax2.set_title('Falso tweets')\n",
    "fig.suptitle('cantidad de palabras')\n",
    "plt.show()"
   ]
  },
  {
   "cell_type": "code",
   "execution_count": 8,
   "metadata": {},
   "outputs": [
    {
     "data": {
      "text/plain": [
       "count    4342.000000\n",
       "mean       14.704744\n",
       "std         6.161564\n",
       "min         1.000000\n",
       "25%        10.000000\n",
       "50%        15.000000\n",
       "75%        19.000000\n",
       "max        31.000000\n",
       "Name: palabras, dtype: float64"
      ]
     },
     "execution_count": 8,
     "metadata": {},
     "output_type": "execute_result"
    }
   ],
   "source": [
    "#Analizamos longitud, promedio, de los tweets falsos y cantidad de palabras.\n",
    "df[df['target']==0]['palabras'].describe()"
   ]
  },
  {
   "cell_type": "code",
   "execution_count": 9,
   "metadata": {},
   "outputs": [
    {
     "data": {
      "text/plain": [
       "count    3271.000000\n",
       "mean       15.167533\n",
       "std         5.096806\n",
       "min         2.000000\n",
       "25%        11.000000\n",
       "50%        15.000000\n",
       "75%        19.000000\n",
       "max        30.000000\n",
       "Name: palabras, dtype: float64"
      ]
     },
     "execution_count": 9,
     "metadata": {},
     "output_type": "execute_result"
    }
   ],
   "source": [
    "#Analizamos longitud, promedio, de los tweets reales y cantidad de palabras.\n",
    "df[df['target']==1]['palabras'].describe()"
   ]
  },
  {
   "cell_type": "code",
   "execution_count": 10,
   "metadata": {},
   "outputs": [],
   "source": [
    "#EN ESTE PRIMER ANALISIS SE VERIFICA QUE EXISTE UNA TENDENCIA A QUE LOS TWEETS CON MAYOR LONGITUD SEAN FALSOS\n",
    "#COMO TAMBIEN EL PROMEDIO DE MAYOR CANTIDAD DE PALABRAS PARA LOS TWEETS FALSOS."
   ]
  },
  {
   "cell_type": "code",
   "execution_count": 11,
   "metadata": {},
   "outputs": [],
   "source": [
    "#ANALIZAMOS LAS PALABRAS CON MAYOR APARICIONES EN AMBOS GRUPOS"
   ]
  },
  {
   "cell_type": "code",
   "execution_count": 12,
   "metadata": {},
   "outputs": [],
   "source": [
    "# 1ero CONVIERTO A MINUSCULAS TODOS LOS CARACTERES\n",
    "df['text'] = df['text'].str.lower()\n",
    "\n",
    "def creo_list_palabras(target):\n",
    "    lista_palabras=[]\n",
    "    \n",
    "    for x in df[df['target']==target]['text'].str.split():\n",
    "        for i in x:\n",
    "            lista_palabras.append(i)\n",
    "    return lista_palabras\n",
    "\n",
    "palabras_falsos = creo_list_palabras(0)\n",
    "palabras_reales = creo_list_palabras(1)\n",
    "\n"
   ]
  },
  {
   "cell_type": "code",
   "execution_count": 13,
   "metadata": {},
   "outputs": [
    {
     "data": {
      "text/plain": [
       "[('the', 1524),\n",
       " ('a', 1115),\n",
       " ('to', 1099),\n",
       " ('I', 938),\n",
       " ('and', 840),\n",
       " ('of', 834),\n",
       " ('in', 720),\n",
       " ('you', 529),\n",
       " ('is', 512),\n",
       " ('for', 452),\n",
       " ('my', 442),\n",
       " ('on', 387),\n",
       " ('-', 374),\n",
       " ('with', 349),\n",
       " ('that', 326),\n",
       " ('The', 295),\n",
       " ('it', 290),\n",
       " ('be', 268),\n",
       " ('like', 233),\n",
       " ('this', 225)]"
      ]
     },
     "metadata": {},
     "output_type": "display_data"
    },
    {
     "data": {
      "text/plain": [
       "[('the', 1051),\n",
       " ('in', 1037),\n",
       " ('of', 888),\n",
       " ('a', 730),\n",
       " ('to', 706),\n",
       " ('and', 462),\n",
       " ('-', 389),\n",
       " ('on', 386),\n",
       " ('for', 368),\n",
       " ('is', 302),\n",
       " ('at', 273),\n",
       " ('I', 259),\n",
       " ('The', 257),\n",
       " ('by', 244),\n",
       " ('from', 206),\n",
       " ('A', 167),\n",
       " ('that', 166),\n",
       " ('with', 159),\n",
       " ('was', 158),\n",
       " ('are', 150)]"
      ]
     },
     "execution_count": 13,
     "metadata": {},
     "output_type": "execute_result"
    }
   ],
   "source": [
    "display(Counter(\" \".join(dffalso[\"text\"]).split()).most_common(20))\n",
    "Counter(\" \".join(dfreal[\"text\"]).split()).most_common(20)"
   ]
  },
  {
   "cell_type": "code",
   "execution_count": 14,
   "metadata": {},
   "outputs": [
    {
     "data": {
      "text/plain": [
       "<BarContainer object of 20 artists>"
      ]
     },
     "execution_count": 14,
     "metadata": {},
     "output_type": "execute_result"
    },
    {
     "data": {
      "image/png": "[encoded data removed]",
      "text/plain": [
       "<Figure size 432x288 with 1 Axes>"
      ]
     },
     "metadata": {
      "needs_background": "light"
     },
     "output_type": "display_data"
    }
   ],
   "source": [
    "dic=defaultdict(int)\n",
    "signos = string.punctuation\n",
    "for i in (palabras_falsos):\n",
    "    if i in signos:\n",
    "        dic[i]+=1\n",
    "x,y=zip(*dic.items())\n",
    "plt.bar(x,y)"
   ]
  },
  {
   "cell_type": "code",
   "execution_count": 15,
   "metadata": {},
   "outputs": [
    {
     "data": {
      "text/plain": [
       "<BarContainer object of 18 artists>"
      ]
     },
     "execution_count": 15,
     "metadata": {},
     "output_type": "execute_result"
    },
    {
     "data": {
      "image/png": "[encoded data removed]",
      "text/plain": [
       "<Figure size 432x288 with 1 Axes>"
      ]
     },
     "metadata": {
      "needs_background": "light"
     },
     "output_type": "display_data"
    }
   ],
   "source": [
    "dic2=defaultdict(int)\n",
    "for i in (palabras_reales):\n",
    "    if i in signos:\n",
    "        dic2[i]+=1\n",
    "x,y=zip(*dic2.items())\n",
    "plt.bar(x,y)"
   ]
  },
  {
   "cell_type": "code",
   "execution_count": 16,
   "metadata": {},
   "outputs": [],
   "source": [
    "#FUNCION ELIMINAR URLS\n",
    "\n",
    "def borrar_url(text):\n",
    "    url = re.compile(r'https?://\\S+|www\\.\\S+')\n",
    "    return url.sub(r'',text)\n",
    "\n",
    "\n",
    "# Dada una lista de palabras, retira cualquiera que esté\n",
    "# en la lista de palabras funcionales.\n",
    "\n",
    "def quitarPalabrasvac(listaPalabras, palabrasvac):\n",
    "    return [w for w in listaPalabras if w not in palabrasvac]"
   ]
  },
  {
   "cell_type": "code",
   "execution_count": null,
   "metadata": {},
   "outputs": [],
   "source": []
  },
  {
   "cell_type": "code",
   "execution_count": 17,
   "metadata": {},
   "outputs": [],
   "source": [
    "#CUENTO LA CANTIDAD DE APARICIONES AUNQUE EN ESTE ANALISIS SOLO USARE SI APARECE O NO.\n",
    "import warnings\n",
    "warnings.filterwarnings('ignore')\n",
    "\n",
    "dffalso['?'] = dffalso.text.str.count('\\?') #TEXTO QUE CONTIENE ALGUNA PREGUNTA\n",
    "dffalso['!'] = dffalso.text.str.count('\\!') #TEXTO QUE CONTIENE ALGUNA EXCLAMACION\n",
    "dffalso['@'] = dffalso.text.str.count('\\@') #TEXTO QUE CONTIENE ALGUNA CITACION\n",
    "dffalso['#'] = dffalso.text.str.count('\\#') #TEXTO QUE CONTIENE ALGUN HASHTAG\n",
    "dffalso['http'] = dffalso.text.str.contains('http') #TEXTO QUE CONTIENE ALGUNA FUENTE\n",
    "\n"
   ]
  },
  {
   "cell_type": "code",
   "execution_count": 18,
   "metadata": {},
   "outputs": [],
   "source": [
    "dfreal['?'] = dfreal.text.str.count('\\?')\n",
    "dfreal['!'] = dfreal.text.str.count('\\!')\n",
    "dfreal['@'] = dfreal.text.str.count('\\@')\n",
    "dfreal['#'] = dfreal.text.str.count('\\#')\n",
    "dfreal['http'] = dfreal.text.str.contains('http')\n"
   ]
  },
  {
   "cell_type": "code",
   "execution_count": 19,
   "metadata": {},
   "outputs": [
    {
     "data": {
      "text/plain": [
       "?       1707.0\n",
       "!        596.0\n",
       "@       1265.0\n",
       "#       1223.0\n",
       "http    1268.0\n",
       "dtype: float64"
      ]
     },
     "metadata": {},
     "output_type": "display_data"
    },
    {
     "data": {
      "text/plain": [
       "?        709.0\n",
       "!        307.0\n",
       "@        855.0\n",
       "#       1547.0\n",
       "http    1987.0\n",
       "dtype: float64"
      ]
     },
     "execution_count": 19,
     "metadata": {},
     "output_type": "execute_result"
    }
   ],
   "source": [
    "\n",
    "dffalso3000 = dffalso.iloc[:3000][['?','!','@','#','http']]  #SELECCIONO SOLO LOS PRIMEROS 3000 TWEETS YA QUE SON MENOS\n",
    "dfreal3000 = dfreal.iloc[:3000][['?','!','@','#','http']]   #SELECCIONO SOLO LOS PRIMEROS 3000 TWEETS YA QUE SON MAS\n",
    "display (dffalso3000.sum())\n",
    "dfreal3000.sum()\n"
   ]
  },
  {
   "cell_type": "code",
   "execution_count": 20,
   "metadata": {},
   "outputs": [
    {
     "data": {
      "text/plain": [
       "id           0.000000\n",
       "keyword      0.000000\n",
       "location     0.000000\n",
       "text         0.000000\n",
       "target       0.000000\n",
       "palabras     0.000000\n",
       "?            8.926934\n",
       "!            5.992051\n",
       "@           20.666463\n",
       "#           26.750229\n",
       "http         0.000000\n",
       "dtype: float64"
      ]
     },
     "metadata": {},
     "output_type": "display_data"
    },
    {
     "data": {
      "text/plain": [
       "id           0.000000\n",
       "keyword      0.000000\n",
       "location     0.000000\n",
       "text         0.000000\n",
       "target       0.000000\n",
       "palabras     0.000000\n",
       "?           17.273146\n",
       "!           12.045140\n",
       "@           31.391064\n",
       "#           20.405343\n",
       "http         0.000000\n",
       "dtype: float64"
      ]
     },
     "execution_count": 20,
     "metadata": {},
     "output_type": "execute_result"
    }
   ],
   "source": [
    "display (dfreal[(dfreal[['?','!','@','#']]>0)].count() / dfreal.count() * 100 )\n",
    "dffalso[(dffalso[['?','!','@','#']]>0)].count() / dffalso.count() * 100 "
   ]
  },
  {
   "cell_type": "code",
   "execution_count": 21,
   "metadata": {},
   "outputs": [
    {
     "data": {
      "text/plain": [
       "14.154692754509323"
      ]
     },
     "metadata": {},
     "output_type": "display_data"
    },
    {
     "data": {
      "text/plain": [
       "27.245508982035926"
      ]
     },
     "execution_count": 21,
     "metadata": {},
     "output_type": "execute_result"
    }
   ],
   "source": [
    "display (dfreal[(dfreal['?']>0)|(dfreal['!']>0)].shape[0] / dfreal.shape[0] * 100)\n",
    "dffalso[(dffalso['?']>0)|(dffalso['!']>0)].shape[0] / dffalso.shape[0] * 100"
   ]
  },
  {
   "cell_type": "code",
   "execution_count": 22,
   "metadata": {},
   "outputs": [
    {
     "data": {
      "image/png": "[encoded data removed]",
      "text/plain": [
       "<Figure size 432x288 with 1 Axes>"
      ]
     },
     "metadata": {
      "needs_background": "light"
     },
     "output_type": "display_data"
    }
   ],
   "source": [
    "etiquetas = ['Promedio', 'Minimo', 'Maximo', 'Media']\n",
    "\n",
    "yreal = [dfreal.text.str.len().mean().round(), dfreal.text.str.len().min(), dfreal.text.str.len().max(), dfreal.text.str.len().median() ]\n",
    "yfalso = [dffalso.text.str.len().mean().round(), dffalso.text.str.len().min(), dffalso.text.str.len().max(), dffalso.text.str.len().median()]\n",
    "\n",
    "x = np.arange(len(etiquetas))\n",
    "y = np.arange(0, 180, 20)\n",
    "\n",
    "barw = 0.35\n",
    "\n",
    "fig,ax = plt.subplots()\n",
    "\n",
    "bar_real = ax.bar(x,yreal,width=barw, label='Tweets Reales', color='blue',zorder=2)\n",
    "bar_falso = ax.bar(x + barw,yfalso,width=barw,label='Tweets Falsos',color='red',zorder=2)\n",
    "\n",
    "ax.set_title('Veracidad de los Tweets segun Longitud')\n",
    "ax.set_ylabel('Cantidad de Caracteres')\n",
    "\n",
    "ax.set_xticks(x)\n",
    "ax.set_xticklabels(etiquetas)\n",
    "\n",
    "ax.set_yticks(y)\n",
    "ax.set_yticklabels(y)\n",
    "\n",
    "ax.legend()\n",
    "\n",
    "for p in ax.patches:\n",
    "    ax.annotate(np.round(p.get_height()), (p.get_x() * 1.005, p.get_height() * 1.005))\n"
   ]
  },
  {
   "cell_type": "code",
   "execution_count": 23,
   "metadata": {},
   "outputs": [
    {
     "data": {
      "text/plain": [
       "28.530145803231317"
      ]
     },
     "execution_count": 23,
     "metadata": {},
     "output_type": "execute_result"
    }
   ],
   "source": [
    "dfreal[dfreal['http']==True].shape[0] / df.shape[0] * 100"
   ]
  },
  {
   "cell_type": "code",
   "execution_count": 24,
   "metadata": {},
   "outputs": [
    {
     "data": {
      "text/plain": [
       "23.630631814002363"
      ]
     },
     "execution_count": 24,
     "metadata": {},
     "output_type": "execute_result"
    }
   ],
   "source": [
    "dffalso[dffalso['http']==True].shape[0] / df.shape[0] * 100"
   ]
  },
  {
   "cell_type": "code",
   "execution_count": 25,
   "metadata": {},
   "outputs": [
    {
     "data": {
      "image/png": "[encoded data removed]",
      "text/plain": [
       "<Figure size 432x288 with 1 Axes>"
      ]
     },
     "metadata": {
      "needs_background": "light"
     },
     "output_type": "display_data"
    }
   ],
   "source": [
    "etiquetas2 = ['Promedio', 'Cant min', 'Cant Max', 'Media']\n",
    "\n",
    "ycantreal = [dfreal.palabras.mean(), dfreal.palabras.min(), dfreal.palabras.max(), dfreal.palabras.median() ]\n",
    "ycantfalso = [dffalso.palabras.mean(), dffalso.palabras.min(), dffalso.palabras.max(), dffalso.palabras.median() ]\n",
    "\n",
    "x2 = np.arange(len(etiquetas2))\n",
    "y2 = np.arange(0, 40, 10)\n",
    "\n",
    "barw2 = 0.35\n",
    "\n",
    "fig2,ax2 = plt.subplots()\n",
    "\n",
    "bar_real2 = ax2.bar(x2,ycantreal,width=barw2, label='Tweets Reales', color='blue',zorder=2)\n",
    "bar_falso2 = ax2.bar(x2 + barw2,ycantfalso,width=barw2,label='Tweets Falsos',color='red',zorder=2)\n",
    "\n",
    "ax2.set_title('Veracidad de los Tweets segun Cantidad de palabras')\n",
    "ax2.set_ylabel('Cantidad de palabras')\n",
    "\n",
    "ax2.set_xticks(x2)\n",
    "ax2.set_xticklabels(etiquetas2)\n",
    "\n",
    "ax2.set_yticks(y2)\n",
    "ax2.set_yticklabels(y2)\n",
    "\n",
    "ax2.legend()\n",
    "\n",
    "for p in ax2.patches:\n",
    "    ax2.annotate(np.round(p.get_height(),decimals=2), (p.get_x() * 1.005, p.get_height() * 1.005))\n",
    "    \n"
   ]
  },
  {
   "cell_type": "code",
   "execution_count": 26,
   "metadata": {},
   "outputs": [
    {
     "data": {
      "text/plain": [
       "<matplotlib.axes._subplots.AxesSubplot at 0x7f0944a21c18>"
      ]
     },
     "execution_count": 26,
     "metadata": {},
     "output_type": "execute_result"
    },
    {
     "data": {
      "image/png": "[encoded data removed]",
      "text/plain": [
       "<Figure size 432x288 with 1 Axes>"
      ]
     },
     "metadata": {
      "needs_background": "light"
     },
     "output_type": "display_data"
    }
   ],
   "source": [
    "dfreal.text.str.len().describe().plot.bar()"
   ]
  },
  {
   "cell_type": "code",
   "execution_count": null,
   "metadata": {},
   "outputs": [],
   "source": []
  }
 ],
 "metadata": {
  "kernelspec": {
   "display_name": "Python 3",
   "language": "python",
   "name": "python3"
  },
  "language_info": {
   "codemirror_mode": {
    "name": "ipython",
    "version": 3
   },
   "file_extension": ".py",
   "mimetype": "text/x-python",
   "name": "python",
   "nbconvert_exporter": "python",
   "pygments_lexer": "ipython3",
   "version": "3.7.1"
  }
 },
 "nbformat": 4,
 "nbformat_minor": 4
}
