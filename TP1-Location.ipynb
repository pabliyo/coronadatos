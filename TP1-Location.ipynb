{
 "cells": [
  {
   "cell_type": "markdown",
   "metadata": {},
   "source": [
    "## Análisis de la columna \"location\""
   ]
  },
  {
   "cell_type": "code",
   "execution_count": 1,
   "metadata": {},
   "outputs": [],
   "source": [
    "import pandas as pd\n",
    "import matplotlib.pyplot as plt\n",
    "import matplotlib.patches as mpatches\n",
    "import seaborn as sns"
   ]
  },
  {
   "cell_type": "markdown",
   "metadata": {},
   "source": [
    "Obtenemos el dataframe:"
   ]
  },
  {
   "cell_type": "code",
   "execution_count": 2,
   "metadata": {},
   "outputs": [
    {
     "data": {
      "text/html": [
       "<div>\n",
       "<style scoped>\n",
       "    .dataframe tbody tr th:only-of-type {\n",
       "        vertical-align: middle;\n",
       "    }\n",
       "\n",
       "    .dataframe tbody tr th {\n",
       "        vertical-align: top;\n",
       "    }\n",
       "\n",
       "    .dataframe thead th {\n",
       "        text-align: right;\n",
       "    }\n",
       "</style>\n",
       "<table border=\"1\" class=\"dataframe\">\n",
       "  <thead>\n",
       "    <tr style=\"text-align: right;\">\n",
       "      <th></th>\n",
       "      <th>id</th>\n",
       "      <th>keyword</th>\n",
       "      <th>location</th>\n",
       "      <th>text</th>\n",
       "      <th>target</th>\n",
       "    </tr>\n",
       "  </thead>\n",
       "  <tbody>\n",
       "    <tr>\n",
       "      <th>0</th>\n",
       "      <td>1</td>\n",
       "      <td>NaN</td>\n",
       "      <td>NaN</td>\n",
       "      <td>Our Deeds are the Reason of this #earthquake M...</td>\n",
       "      <td>1</td>\n",
       "    </tr>\n",
       "    <tr>\n",
       "      <th>1</th>\n",
       "      <td>4</td>\n",
       "      <td>NaN</td>\n",
       "      <td>NaN</td>\n",
       "      <td>Forest fire near La Ronge Sask. Canada</td>\n",
       "      <td>1</td>\n",
       "    </tr>\n",
       "    <tr>\n",
       "      <th>2</th>\n",
       "      <td>5</td>\n",
       "      <td>NaN</td>\n",
       "      <td>NaN</td>\n",
       "      <td>All residents asked to 'shelter in place' are ...</td>\n",
       "      <td>1</td>\n",
       "    </tr>\n",
       "    <tr>\n",
       "      <th>3</th>\n",
       "      <td>6</td>\n",
       "      <td>NaN</td>\n",
       "      <td>NaN</td>\n",
       "      <td>13,000 people receive #wildfires evacuation or...</td>\n",
       "      <td>1</td>\n",
       "    </tr>\n",
       "    <tr>\n",
       "      <th>4</th>\n",
       "      <td>7</td>\n",
       "      <td>NaN</td>\n",
       "      <td>NaN</td>\n",
       "      <td>Just got sent this photo from Ruby #Alaska as ...</td>\n",
       "      <td>1</td>\n",
       "    </tr>\n",
       "  </tbody>\n",
       "</table>\n",
       "</div>"
      ],
      "text/plain": [
       "   id keyword location                                               text  \\\n",
       "0   1     NaN      NaN  Our Deeds are the Reason of this #earthquake M...   \n",
       "1   4     NaN      NaN             Forest fire near La Ronge Sask. Canada   \n",
       "2   5     NaN      NaN  All residents asked to 'shelter in place' are ...   \n",
       "3   6     NaN      NaN  13,000 people receive #wildfires evacuation or...   \n",
       "4   7     NaN      NaN  Just got sent this photo from Ruby #Alaska as ...   \n",
       "\n",
       "   target  \n",
       "0       1  \n",
       "1       1  \n",
       "2       1  \n",
       "3       1  \n",
       "4       1  "
      ]
     },
     "execution_count": 2,
     "metadata": {},
     "output_type": "execute_result"
    }
   ],
   "source": [
    "df = pd.read_csv(\"train.csv\")\n",
    "df.head()"
   ]
  },
  {
   "cell_type": "code",
   "execution_count": 3,
   "metadata": {},
   "outputs": [
    {
     "data": {
      "text/plain": [
       "7613"
      ]
     },
     "execution_count": 3,
     "metadata": {},
     "output_type": "execute_result"
    }
   ],
   "source": [
    "len(df)"
   ]
  },
  {
   "cell_type": "code",
   "execution_count": 4,
   "metadata": {
    "scrolled": false
   },
   "outputs": [
    {
     "data": {
      "text/plain": [
       "id          7613\n",
       "keyword     7552\n",
       "location    5080\n",
       "text        7613\n",
       "target      7613\n",
       "dtype: int64"
      ]
     },
     "execution_count": 4,
     "metadata": {},
     "output_type": "execute_result"
    }
   ],
   "source": [
    "df.count()"
   ]
  },
  {
   "cell_type": "code",
   "execution_count": 5,
   "metadata": {},
   "outputs": [
    {
     "data": {
      "text/plain": [
       "2533"
      ]
     },
     "execution_count": 5,
     "metadata": {},
     "output_type": "execute_result"
    }
   ],
   "source": [
    "len(df.loc[df[\"location\"].isna()]) # Cantidad de tweets sin ubicación"
   ]
  },
  {
   "cell_type": "code",
   "execution_count": 6,
   "metadata": {},
   "outputs": [
    {
     "data": {
      "text/plain": [
       "'33.27%'"
      ]
     },
     "execution_count": 6,
     "metadata": {},
     "output_type": "execute_result"
    }
   ],
   "source": [
    "f'{(len(df.loc[df[\"location\"].isna()]) / len(df)) * 100:.2f}%' # Porcentaje de valores nulos"
   ]
  },
  {
   "cell_type": "markdown",
   "metadata": {},
   "source": [
    "Se observa que `location` es la columna con la mayor cantidad de valores nulos. Una pregunta que podríamos hacernos es, ¿influye que el tweet tenga o no ubicación en la veracidad del mismo?"
   ]
  },
  {
   "cell_type": "code",
   "execution_count": 7,
   "metadata": {},
   "outputs": [
    {
     "data": {
      "text/plain": [
       "0    2884\n",
       "1    2196\n",
       "Name: target, dtype: int64"
      ]
     },
     "execution_count": 7,
     "metadata": {},
     "output_type": "execute_result"
    }
   ],
   "source": [
    "location_not_null_target = df.loc[df[\"location\"].notnull()][\"target\"].value_counts()\n",
    "location_not_null_target"
   ]
  },
  {
   "cell_type": "code",
   "execution_count": 8,
   "metadata": {},
   "outputs": [
    {
     "data": {
      "text/plain": [
       "0    1458\n",
       "1    1075\n",
       "Name: target, dtype: int64"
      ]
     },
     "execution_count": 8,
     "metadata": {},
     "output_type": "execute_result"
    }
   ],
   "source": [
    "location_null_target = df.loc[df[\"location\"].isna()][\"target\"].value_counts()\n",
    "location_null_target"
   ]
  },
  {
   "cell_type": "code",
   "execution_count": 9,
   "metadata": {},
   "outputs": [
    {
     "data": {
      "image/png": "[encoded data removed]",
      "text/plain": [
       "<Figure size 432x288 with 2 Axes>"
      ]
     },
     "metadata": {},
     "output_type": "display_data"
    }
   ],
   "source": [
    "fig = plt.figure()\n",
    "\n",
    "ax1 = fig.add_axes([0, 0, .5, .5], aspect=1)\n",
    "ax1.pie(\n",
    "    location_not_null_target,\n",
    "    autopct=\"%1.0f%%\",\n",
    "    explode=(0.05, 0.05),\n",
    "    labels=(\"Falso\", \"Verdadero\"),\n",
    "    radius=1.5,\n",
    "    textprops={\"fontsize\": 14}\n",
    ")\n",
    "plt.title(\"Veracidad de tweets con ubicación\", y=1.5, fontsize=16)\n",
    "\n",
    "ax2 = fig.add_axes([.75, 0, .5, .5], aspect=1)\n",
    "ax2.pie(\n",
    "    location_null_target,\n",
    "    autopct=\"%1.0f%%\",\n",
    "    explode=(0.05, 0.05),\n",
    "    labels=(\"Falso\", \"Verdadero\"),\n",
    "    radius=1.5,\n",
    "    textprops={\"fontsize\": 14}\n",
    ")\n",
    "plt.title(\"Veracidad de tweets sin ubicación\", y=1.5, fontsize=16)\n",
    "\n",
    "plt.show()"
   ]
  },
  {
   "cell_type": "markdown",
   "metadata": {},
   "source": [
    "A continuación podemos ver cuántos tweets tenemos de cada ubicación:"
   ]
  },
  {
   "cell_type": "code",
   "execution_count": 10,
   "metadata": {},
   "outputs": [
    {
     "data": {
      "text/plain": [
       "USA                       104\n",
       "New York                   71\n",
       "United States              50\n",
       "London                     45\n",
       "Canada                     29\n",
       "                         ... \n",
       "#NewcastleuponTyne #UK      1\n",
       "Brentwood,TN                1\n",
       "A sofa                      1\n",
       "The Internet                1\n",
       "Saint Lucia                 1\n",
       "Name: location, Length: 3341, dtype: int64"
      ]
     },
     "execution_count": 10,
     "metadata": {},
     "output_type": "execute_result"
    }
   ],
   "source": [
    "df[\"location\"].value_counts()"
   ]
  },
  {
   "cell_type": "code",
   "execution_count": 11,
   "metadata": {
    "scrolled": true
   },
   "outputs": [
    {
     "data": {
      "text/plain": [
       "count    3341.000000\n",
       "mean        1.520503\n",
       "std         3.022364\n",
       "min         1.000000\n",
       "25%         1.000000\n",
       "50%         1.000000\n",
       "75%         1.000000\n",
       "max       104.000000\n",
       "Name: location, dtype: float64"
      ]
     },
     "execution_count": 11,
     "metadata": {},
     "output_type": "execute_result"
    }
   ],
   "source": [
    "df[\"location\"].value_counts().describe()"
   ]
  },
  {
   "cell_type": "markdown",
   "metadata": {},
   "source": [
    "Por las estadísticas obtenidas, se ve que la mayoría de las ubicaciones aparecen pocas veces."
   ]
  },
  {
   "cell_type": "code",
   "execution_count": 12,
   "metadata": {},
   "outputs": [],
   "source": [
    "location_value_counts = df[\"location\"].value_counts()"
   ]
  },
  {
   "cell_type": "code",
   "execution_count": 13,
   "metadata": {},
   "outputs": [
    {
     "data": {
      "text/plain": [
       "Kingston, Pennsylvania      1\n",
       "Greeley, CO                 1\n",
       "England,UK,Europe,Sol 3.    1\n",
       "Denton, Texas               1\n",
       "Eddyville, Oregon 97343     1\n",
       "                           ..\n",
       "#NewcastleuponTyne #UK      1\n",
       "Brentwood,TN                1\n",
       "A sofa                      1\n",
       "The Internet                1\n",
       "Saint Lucia                 1\n",
       "Name: location, Length: 2818, dtype: int64"
      ]
     },
     "execution_count": 13,
     "metadata": {},
     "output_type": "execute_result"
    }
   ],
   "source": [
    "location_value_counts.loc[location_value_counts == 1]"
   ]
  },
  {
   "cell_type": "code",
   "execution_count": 14,
   "metadata": {
    "scrolled": true
   },
   "outputs": [
    {
     "data": {
      "text/plain": [
       "dallas                2\n",
       "617-BTOWN-BEATDOWN    2\n",
       "everywhere            2\n",
       "Breaking News         2\n",
       "Houston               2\n",
       "                     ..\n",
       "Pittsburgh            2\n",
       "Gainesville, FL       2\n",
       "Ukraine               2\n",
       "Cumming, GA           2\n",
       "Moscow                2\n",
       "Name: location, Length: 266, dtype: int64"
      ]
     },
     "execution_count": 14,
     "metadata": {},
     "output_type": "execute_result"
    }
   ],
   "source": [
    "location_value_counts.loc[location_value_counts == 2]"
   ]
  },
  {
   "cell_type": "code",
   "execution_count": 15,
   "metadata": {
    "scrolled": true
   },
   "outputs": [
    {
     "data": {
      "text/plain": [
       "USA                          104\n",
       "New York                      71\n",
       "United States                 50\n",
       "London                        45\n",
       "Canada                        29\n",
       "                            ... \n",
       "Paterson, New Jersey           6\n",
       "Global                         6\n",
       "Calgary, Alberta               6\n",
       "California, United States      6\n",
       "Charlotte, NC                  6\n",
       "Name: location, Length: 76, dtype: int64"
      ]
     },
     "execution_count": 15,
     "metadata": {},
     "output_type": "execute_result"
    }
   ],
   "source": [
    "location_value_counts.loc[location_value_counts > 5]"
   ]
  },
  {
   "cell_type": "code",
   "execution_count": 16,
   "metadata": {},
   "outputs": [
    {
     "data": {
      "text/plain": [
       "USA         104\n",
       "New York     71\n",
       "Name: location, dtype: int64"
      ]
     },
     "execution_count": 16,
     "metadata": {},
     "output_type": "execute_result"
    }
   ],
   "source": [
    "location_value_counts.loc[location_value_counts > 50]"
   ]
  },
  {
   "cell_type": "code",
   "execution_count": 17,
   "metadata": {},
   "outputs": [
    {
     "data": {
      "text/plain": [
       "'84.35%'"
      ]
     },
     "execution_count": 17,
     "metadata": {},
     "output_type": "execute_result"
    }
   ],
   "source": [
    "# Porcentaje de ubicaciones con una sola aparición\n",
    "f\"{(len(location_value_counts.loc[location_value_counts == 1]) / len(location_value_counts)) * 100 :.2f}%\""
   ]
  },
  {
   "cell_type": "code",
   "execution_count": 18,
   "metadata": {},
   "outputs": [
    {
     "data": {
      "text/plain": [
       "'0.96%'"
      ]
     },
     "execution_count": 18,
     "metadata": {},
     "output_type": "execute_result"
    }
   ],
   "source": [
    "# Porcentaje de ubicaciones con más de 10 apariciones\n",
    "f\"{(len(location_value_counts.loc[location_value_counts > 10]) / len(location_value_counts)) * 100 :.2f}%\""
   ]
  },
  {
   "cell_type": "code",
   "execution_count": 19,
   "metadata": {},
   "outputs": [
    {
     "data": {
      "text/plain": [
       "'0.06%'"
      ]
     },
     "execution_count": 19,
     "metadata": {},
     "output_type": "execute_result"
    }
   ],
   "source": [
    "# Porcentaje de ubicaciones con más de 50 apariciones\n",
    "f\"{(len(location_value_counts.loc[location_value_counts > 50]) / len(location_value_counts)) * 100 :.2f}%\""
   ]
  },
  {
   "cell_type": "code",
   "execution_count": 20,
   "metadata": {
    "scrolled": false
   },
   "outputs": [
    {
     "data": {
      "text/plain": [
       "Text(0, 0.5, 'Cantidad de ubicaciones')"
      ]
     },
     "execution_count": 20,
     "metadata": {},
     "output_type": "execute_result"
    },
    {
     "data": {
      "image/png": "[encoded data removed]",
      "text/plain": [
       "<Figure size 1008x504 with 1 Axes>"
      ]
     },
     "metadata": {
      "needs_background": "light"
     },
     "output_type": "display_data"
    }
   ],
   "source": [
    "plt.figure(figsize=(14,7))\n",
    "ax = sns.distplot(df[\"location\"].value_counts(), kde=False)\n",
    "ax.set_yscale(\"log\")\n",
    "plt.title(\"Distribución de la cantidad de apariciones de una ubicación\", fontsize=18)\n",
    "plt.xlabel(\"Apariciones\", fontsize=14)\n",
    "plt.ylabel(\"Cantidad de ubicaciones\", fontsize=14)"
   ]
  },
  {
   "cell_type": "markdown",
   "metadata": {},
   "source": [
    "Obtenemos las ubicaciones más y menos frecuentes:"
   ]
  },
  {
   "cell_type": "code",
   "execution_count": 21,
   "metadata": {},
   "outputs": [
    {
     "data": {
      "text/plain": [
       "USA                104\n",
       "New York            71\n",
       "United States       50\n",
       "London              45\n",
       "Canada              29\n",
       "Nigeria             28\n",
       "UK                  27\n",
       "Los Angeles, CA     26\n",
       "India               24\n",
       "Mumbai              22\n",
       "Name: location, dtype: int64"
      ]
     },
     "execution_count": 21,
     "metadata": {},
     "output_type": "execute_result"
    }
   ],
   "source": [
    "df[\"location\"].value_counts().head(10)"
   ]
  },
  {
   "cell_type": "code",
   "execution_count": 22,
   "metadata": {
    "scrolled": false
   },
   "outputs": [
    {
     "data": {
      "text/plain": [
       "Warszawa                          1\n",
       "Dublin                            1\n",
       " 45å¡ 5'12.53N   14å¡ 7'24.93E    1\n",
       "Tornado Alley, USA                1\n",
       "nj                                1\n",
       "#NewcastleuponTyne #UK            1\n",
       "Brentwood,TN                      1\n",
       "A sofa                            1\n",
       "The Internet                      1\n",
       "Saint Lucia                       1\n",
       "Name: location, dtype: int64"
      ]
     },
     "execution_count": 22,
     "metadata": {},
     "output_type": "execute_result"
    }
   ],
   "source": [
    "df[\"location\"].value_counts().tail(10)"
   ]
  },
  {
   "cell_type": "markdown",
   "metadata": {},
   "source": [
    "Podemos obtener, por ejemplo, los tweets de las 10 ubicaciones más frecuentes:"
   ]
  },
  {
   "cell_type": "code",
   "execution_count": 23,
   "metadata": {
    "scrolled": true
   },
   "outputs": [],
   "source": [
    "top_locations = df[\"location\"].value_counts().nlargest(10).index.to_list()\n",
    "tweets_from_top_locations = df[df[\"location\"].isin(top_locations)]"
   ]
  },
  {
   "cell_type": "markdown",
   "metadata": {},
   "source": [
    "Y con estos datos realizar un gráfico:"
   ]
  },
  {
   "cell_type": "code",
   "execution_count": 24,
   "metadata": {
    "scrolled": false
   },
   "outputs": [
    {
     "data": {
      "text/plain": [
       "Text(0, 0.5, 'Ubicación')"
      ]
     },
     "execution_count": 24,
     "metadata": {},
     "output_type": "execute_result"
    },
    {
     "data": {
      "image/png": "[encoded data removed]",
      "text/plain": [
       "<Figure size 1008x504 with 1 Axes>"
      ]
     },
     "metadata": {
      "needs_background": "light"
     },
     "output_type": "display_data"
    }
   ],
   "source": [
    "plt.figure(figsize=(14,7))\n",
    "\n",
    "sns.countplot(\n",
    "    y=\"location\",\n",
    "    data=tweets_from_top_locations,\n",
    "    order=top_locations\n",
    ")\n",
    "\n",
    "plt.title(\"Cantidad de tweets por ubicación para las 10 ubicaciones más frecuentes\", fontsize=18)\n",
    "plt.xlabel(\"Cantidad\", fontsize=14)\n",
    "plt.ylabel(\"Ubicación\", fontsize=14)"
   ]
  },
  {
   "cell_type": "markdown",
   "metadata": {},
   "source": [
    "Analicemos ahora los tweets diferenciándolos por su `target`:"
   ]
  },
  {
   "cell_type": "code",
   "execution_count": 25,
   "metadata": {},
   "outputs": [],
   "source": [
    "real_tweets = df.loc[df[\"target\"] == 1]\n",
    "false_tweets = df.loc[df[\"target\"] == 0]"
   ]
  },
  {
   "cell_type": "code",
   "execution_count": 26,
   "metadata": {
    "scrolled": true
   },
   "outputs": [
    {
     "data": {
      "text/plain": [
       "3271"
      ]
     },
     "execution_count": 26,
     "metadata": {},
     "output_type": "execute_result"
    }
   ],
   "source": [
    "len(real_tweets)"
   ]
  },
  {
   "cell_type": "code",
   "execution_count": 27,
   "metadata": {
    "scrolled": true
   },
   "outputs": [
    {
     "data": {
      "text/plain": [
       "USA               67\n",
       "United States     27\n",
       "Nigeria           22\n",
       "India             20\n",
       "Mumbai            19\n",
       "New York          16\n",
       "UK                16\n",
       "London            16\n",
       "Washington, DC    15\n",
       "Canada            13\n",
       "Name: location, dtype: int64"
      ]
     },
     "execution_count": 27,
     "metadata": {},
     "output_type": "execute_result"
    }
   ],
   "source": [
    "real_tweets[\"location\"].value_counts().head(10)"
   ]
  },
  {
   "cell_type": "code",
   "execution_count": 28,
   "metadata": {},
   "outputs": [
    {
     "data": {
      "text/plain": [
       "4342"
      ]
     },
     "execution_count": 28,
     "metadata": {},
     "output_type": "execute_result"
    }
   ],
   "source": [
    "len(false_tweets)"
   ]
  },
  {
   "cell_type": "code",
   "execution_count": 29,
   "metadata": {
    "scrolled": false
   },
   "outputs": [
    {
     "data": {
      "text/plain": [
       "New York           55\n",
       "USA                37\n",
       "London             29\n",
       "United States      23\n",
       "Los Angeles, CA    18\n",
       "Canada             16\n",
       "Kenya              15\n",
       "Everywhere         12\n",
       "UK                 11\n",
       "Florida            11\n",
       "Name: location, dtype: int64"
      ]
     },
     "execution_count": 29,
     "metadata": {},
     "output_type": "execute_result"
    }
   ],
   "source": [
    "false_tweets[\"location\"].value_counts().head(10)"
   ]
  },
  {
   "cell_type": "code",
   "execution_count": 30,
   "metadata": {},
   "outputs": [],
   "source": [
    "tweet_counts = (df.groupby([\"location\", \"target\"])\n",
    "                .agg({\"text\": \"count\"})\n",
    "                .reset_index()\n",
    "                .rename(columns={\"text\": \"count\"}))\n",
    "\n",
    "tweet_counts_from_top_locations = tweet_counts.loc[tweet_counts[\"location\"].isin(top_locations)]"
   ]
  },
  {
   "cell_type": "code",
   "execution_count": 31,
   "metadata": {
    "scrolled": false
   },
   "outputs": [
    {
     "data": {
      "image/png": "[encoded data removed]",
      "text/plain": [
       "<Figure size 1080x360 with 1 Axes>"
      ]
     },
     "metadata": {
      "needs_background": "light"
     },
     "output_type": "display_data"
    }
   ],
   "source": [
    "plt.figure(figsize=(15,5))\n",
    "p = sns.barplot(x=\"location\", y=\"count\", hue=\"target\", data=tweet_counts_from_top_locations)\n",
    "\n",
    "plt.legend(handles=[\n",
    "    mpatches.Patch(color='#E1812C', label='Verdadero'),\n",
    "    mpatches.Patch(color='#3274A1', label='Falso')\n",
    "], prop={'size': 14})\n",
    "\n",
    "plt.title(\"Cantidad de tweets por ubicación de las 10 ubicaciones más frecuentes, por veracidad\", fontsize=18)\n",
    "plt.xlabel(\"Ubicación\", fontsize=14)\n",
    "plt.ylabel(\"Cantidad\", fontsize=14)\n",
    "plt.setp(p.get_xticklabels(), rotation=90, fontsize=14)\n",
    "plt.show()"
   ]
  },
  {
   "cell_type": "markdown",
   "metadata": {},
   "source": [
    "Analizemos ahora distinguiendo entre ubicaciones reales y falsas."
   ]
  },
  {
   "cell_type": "code",
   "execution_count": 32,
   "metadata": {},
   "outputs": [],
   "source": [
    "no_null_locations_df = df.loc[df[\"location\"].notnull()]"
   ]
  },
  {
   "cell_type": "code",
   "execution_count": 33,
   "metadata": {},
   "outputs": [],
   "source": [
    "fake_locations = no_null_locations_df[\"location\"].str.contains(\n",
    "    \"\\$|!|@|\\%|\\&|\\/|\\(|\\)|\\=|\\?|#|\\d+\",\n",
    "    regex=True\n",
    ")\n",
    "# Consideramos que las ubicaciones que tengan alguno de estos símbolos tienen una alta probabilidad de ser falsas"
   ]
  },
  {
   "cell_type": "code",
   "execution_count": 34,
   "metadata": {},
   "outputs": [],
   "source": [
    "tweets_fake_locations = no_null_locations_df.loc[fake_locations]\n",
    "tweets_real_locations = no_null_locations_df.loc[~fake_locations]"
   ]
  },
  {
   "cell_type": "code",
   "execution_count": 35,
   "metadata": {},
   "outputs": [
    {
     "data": {
      "text/plain": [
       "639"
      ]
     },
     "execution_count": 35,
     "metadata": {},
     "output_type": "execute_result"
    }
   ],
   "source": [
    "len(tweets_fake_locations)"
   ]
  },
  {
   "cell_type": "code",
   "execution_count": 36,
   "metadata": {},
   "outputs": [
    {
     "data": {
      "text/plain": [
       "'12.58%'"
      ]
     },
     "execution_count": 36,
     "metadata": {},
     "output_type": "execute_result"
    }
   ],
   "source": [
    "# Porcentaje de tweets con ubicaciones falsas\n",
    "f\"{(len(tweets_fake_locations) / len(no_null_locations_df)) * 100 :.2f}%\""
   ]
  },
  {
   "cell_type": "code",
   "execution_count": 37,
   "metadata": {},
   "outputs": [
    {
     "data": {
      "text/plain": [
       "4441"
      ]
     },
     "execution_count": 37,
     "metadata": {},
     "output_type": "execute_result"
    }
   ],
   "source": [
    "len(tweets_real_locations)"
   ]
  },
  {
   "cell_type": "code",
   "execution_count": 38,
   "metadata": {},
   "outputs": [
    {
     "data": {
      "text/plain": [
       "'87.42%'"
      ]
     },
     "execution_count": 38,
     "metadata": {},
     "output_type": "execute_result"
    }
   ],
   "source": [
    "# Porcentaje de tweets con ubicaciones reales\n",
    "f\"{(len(tweets_real_locations) / len(no_null_locations_df)) * 100 :.2f}%\""
   ]
  },
  {
   "cell_type": "code",
   "execution_count": 39,
   "metadata": {},
   "outputs": [
    {
     "data": {
      "image/png": "[encoded data removed]",
      "text/plain": [
       "<Figure size 432x288 with 2 Axes>"
      ]
     },
     "metadata": {},
     "output_type": "display_data"
    }
   ],
   "source": [
    "fig = plt.figure()\n",
    "\n",
    "ax1 = fig.add_axes([0, 0, .5, .5], aspect=1)\n",
    "ax1.pie(\n",
    "    tweets_fake_locations[\"target\"].value_counts(),\n",
    "    autopct=\"%1.0f%%\",\n",
    "    explode=(0.05, 0.05),\n",
    "    labels=(\"Falso\", \"Verdadero\"),\n",
    "    radius=1.5,\n",
    "    textprops={\"fontsize\": 14}\n",
    ")\n",
    "plt.title(\"Veracidad de tweets con ubicaciones falsas\", y=1.5, fontsize=16)\n",
    "\n",
    "ax2 = fig.add_axes([.95, 0, .5, .5], aspect=1)\n",
    "ax2.pie(\n",
    "    tweets_real_locations[\"target\"].value_counts(),\n",
    "    autopct=\"%1.0f%%\",\n",
    "    explode=(0.05, 0.05),\n",
    "    labels=(\"Falso\", \"Verdadero\"),\n",
    "    radius=1.5,\n",
    "    textprops={\"fontsize\": 14}\n",
    ")\n",
    "plt.title(\"Veracidad de tweets con ubicaciones verdaderas\", y=1.5, fontsize=16)\n",
    "\n",
    "plt.show()"
   ]
  }
 ],
 "metadata": {
  "kernelspec": {
   "display_name": "Python 3",
   "language": "python",
   "name": "python3"
  },
  "language_info": {
   "codemirror_mode": {
    "name": "ipython",
    "version": 3
   },
   "file_extension": ".py",
   "mimetype": "text/x-python",
   "name": "python",
   "nbconvert_exporter": "python",
   "pygments_lexer": "ipython3",
   "version": "3.7.6"
  }
 },
 "nbformat": 4,
 "nbformat_minor": 4
}
